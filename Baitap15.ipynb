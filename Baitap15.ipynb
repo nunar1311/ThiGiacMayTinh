{
 "cells": [
  {
   "cell_type": "code",
   "execution_count": 1,
   "metadata": {},
   "outputs": [
    {
     "name": "stdout",
     "output_type": "stream",
     "text": [
      "Result:  [-0.5  1.5]\n"
     ]
    }
   ],
   "source": [
    "from scipy import linalg\n",
    "import numpy as np\n",
    "\n",
    "a = np.array([[2, 4], [6, 8]])\n",
    "b = np.array([5, 9])\n",
    "\n",
    "c = linalg.solve(a, b)\n",
    "\n",
    "print(\"Result: \", c)"
   ]
  },
  {
   "cell_type": "code",
   "execution_count": 3,
   "metadata": {},
   "outputs": [
    {
     "name": "stdout",
     "output_type": "stream",
     "text": [
      "Integral f(x) from 0 to 2  (2.6666666666666665, 2.9605947323337504e-14)\n"
     ]
    }
   ],
   "source": [
    "from scipy import integrate\n",
    "\n",
    "def my_function(x):\n",
    "    return x**2\n",
    "\n",
    "integral = integrate.quad(my_function, 0, 2)\n",
    "print(\"Integral f(x) from 0 to 2 \", integral)"
   ]
  },
  {
   "cell_type": "code",
   "execution_count": 4,
   "metadata": {},
   "outputs": [
    {
     "name": "stdout",
     "output_type": "stream",
     "text": [
      "Evals:  [-0.74456265+0.j 10.74456265+0.j]\n",
      "Evecs:  [[-0.82456484 -0.41597356]\n",
      " [ 0.56576746 -0.90937671]]\n"
     ]
    }
   ],
   "source": [
    "from scipy import linalg\n",
    "import numpy as np\n",
    "\n",
    "a = np.array([[2, 4], [6, 8]])\n",
    "\n",
    "evals, evecs = linalg.eig(a)\n",
    "\n",
    "print(\"Evals: \", evals)\n",
    "print(\"Evecs: \", evecs)"
   ]
  }
 ],
 "metadata": {
  "kernelspec": {
   "display_name": ".venv",
   "language": "python",
   "name": "python3"
  },
  "language_info": {
   "codemirror_mode": {
    "name": "ipython",
    "version": 3
   },
   "file_extension": ".py",
   "mimetype": "text/x-python",
   "name": "python",
   "nbconvert_exporter": "python",
   "pygments_lexer": "ipython3",
   "version": "3.9.6"
  }
 },
 "nbformat": 4,
 "nbformat_minor": 2
}
