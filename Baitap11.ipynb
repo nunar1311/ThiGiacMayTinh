{
 "cells": [
  {
   "cell_type": "code",
   "execution_count": 1,
   "metadata": {},
   "outputs": [
    {
     "name": "stdout",
     "output_type": "stream",
     "text": [
      "[2 4 8]\n"
     ]
    }
   ],
   "source": [
    "import numpy as np\n",
    "\n",
    "arr = np.array([2, 4, 8])\n",
    "print(arr)"
   ]
  },
  {
   "cell_type": "code",
   "execution_count": 2,
   "metadata": {},
   "outputs": [
    {
     "name": "stdout",
     "output_type": "stream",
     "text": [
      "4\n"
     ]
    }
   ],
   "source": [
    "element = arr[1]\n",
    "print(element)"
   ]
  },
  {
   "cell_type": "code",
   "execution_count": 5,
   "metadata": {},
   "outputs": [
    {
     "name": "stdout",
     "output_type": "stream",
     "text": [
      "Matrix:  [[1 2 3]\n",
      " [4 5 6]\n",
      " [7 8 9]]\n"
     ]
    }
   ],
   "source": [
    "matrix = np.array([[1, 2, 3], [4, 5, 6], [7, 8, 9]])\n",
    "print(\"Matrix: \",matrix)"
   ]
  },
  {
   "cell_type": "code",
   "execution_count": 8,
   "metadata": {},
   "outputs": [
    {
     "name": "stdout",
     "output_type": "stream",
     "text": [
      "9\n"
     ]
    }
   ],
   "source": [
    "element = matrix[2, 2]\n",
    "print(element)\n"
   ]
  },
  {
   "cell_type": "code",
   "execution_count": 17,
   "metadata": {},
   "outputs": [
    {
     "name": "stdout",
     "output_type": "stream",
     "text": [
      "[0. 0. 0. 0. 0. 0.]\n",
      "[1. 1. 1. 1. 1. 1.]\n",
      "[1. 1. 1. 1. 1. 1.]\n",
      "[ 0  1  2  3  4  5  6  7  8  9 10 11 12 13 14 15 16 17 18 19 20 21 22 23\n",
      " 24 25 26 27 28 29 30 31 32 33 34 35 36 37 38 39 40 41 42 43 44 45 46 47\n",
      " 48 49 50 51 52 53 54 55 56 57 58 59 60 61 62 63 64 65 66 67 68 69 70 71\n",
      " 72 73 74 75 76 77 78 79 80 81 82 83 84 85 86 87 88 89 90 91 92 93 94 95\n",
      " 96 97 98 99]\n",
      "[0.  0.2 0.4 0.6 0.8 1. ]\n"
     ]
    },
    {
     "data": {
      "text/plain": [
       "array([1, 1, 1, 1, 1, 1])"
      ]
     },
     "execution_count": 17,
     "metadata": {},
     "output_type": "execute_result"
    }
   ],
   "source": [
    "a = np.zeros(6)\n",
    "print(a)\n",
    "\n",
    "b = np.ones(6)\n",
    "print(b)\n",
    "\n",
    "c = np.empty(6)\n",
    "print(c)\n",
    "\n",
    "d = np.arange(100)\n",
    "print(d)\n",
    "\n",
    "e = np.linspace(0, 1, num = 6)\n",
    "print(e)\n",
    "\n",
    "f = np.ones(6, dtype=np.int64)\n",
    "f"
   ]
  },
  {
   "cell_type": "code",
   "execution_count": 22,
   "metadata": {},
   "outputs": [
    {
     "name": "stdout",
     "output_type": "stream",
     "text": [
      "[1 4 7 9 6]\n",
      "[1 4 6 7 9]\n",
      "[9 7 6 4 1]\n",
      "[ 9  7  6  4  1 10]\n",
      "[ 9  7  6  4 10]\n"
     ]
    }
   ],
   "source": [
    "arr = np.array([1, 4, 7, 9, 6])\n",
    "print(arr)\n",
    "\n",
    "arr = np.sort(arr)\n",
    "print(arr)\n",
    "\n",
    "arr = np.sort(arr)[::-1]\n",
    "print(arr)\n",
    "\n",
    "arr = np.append(arr, 10)\n",
    "print(arr)\n",
    "\n",
    "arr = np.delete(arr, 4)\n",
    "print(arr)\n"
   ]
  },
  {
   "cell_type": "code",
   "execution_count": 25,
   "metadata": {},
   "outputs": [
    {
     "name": "stdout",
     "output_type": "stream",
     "text": [
      "[[1 3 4]\n",
      " [2 5 9]\n",
      " [0 3 4]]\n",
      "[[-1 -3 -4]\n",
      " [-2 -5 -9]\n",
      " [ 0 -3 -4]]\n",
      "[[1 0 3]\n",
      " [2 4 3]\n",
      " [4 5 9]]\n",
      "[[-1  0 -3]\n",
      " [-2 -4 -3]\n",
      " [-4 -5 -9]]\n"
     ]
    }
   ],
   "source": [
    "matrix = np.array([[1, 4, 3], [2, 5, 9], [4, 0, 3]])\n",
    "\n",
    "sorted_col = np.sort(matrix, axis = 1)\n",
    "print(sorted_col)\n",
    "\n",
    "sorted_col = -np.sort(matrix, axis = 1)\n",
    "print(sorted_col)\n",
    "\n",
    "sorted_row = np.sort(matrix, axis = 0)\n",
    "print(sorted_row)\n",
    "\n",
    "sorted_row = -np.sort(matrix, axis = 0)\n",
    "print(sorted_row)\n"
   ]
  },
  {
   "cell_type": "code",
   "execution_count": 26,
   "metadata": {},
   "outputs": [
    {
     "name": "stdout",
     "output_type": "stream",
     "text": [
      "Dimension:  2\n",
      "Size:  6\n",
      "Shape:  (2, 3)\n"
     ]
    }
   ],
   "source": [
    "matrix = np.array([[1, 4, 3], [2, 5, 9]])\n",
    "\n",
    "dimension = matrix.ndim\n",
    "size = matrix.size\n",
    "shape = matrix.shape\n",
    "\n",
    "print(\"Dimension: \", dimension)\n",
    "print(\"Size: \", size)\n",
    "print(\"Shape: \", shape)"
   ]
  },
  {
   "cell_type": "code",
   "execution_count": 27,
   "metadata": {},
   "outputs": [
    {
     "name": "stdout",
     "output_type": "stream",
     "text": [
      "[1. 2. 3. 4. 5. 6. 7. 8. 9.]\n"
     ]
    }
   ],
   "source": [
    "arr = np.array([1, 2, 3, 4, 5, 6, 7, 8, 9])\n",
    "arr_float = arr.astype(float)\n",
    "print(arr_float)"
   ]
  },
  {
   "cell_type": "code",
   "execution_count": 38,
   "metadata": {},
   "outputs": [
    {
     "name": "stdout",
     "output_type": "stream",
     "text": [
      "[[1 4 5]\n",
      " [3 7 2]]\n",
      "[[1 4]\n",
      " [5 3]\n",
      " [7 2]]\n",
      "[1 4 5 3 7 2]\n"
     ]
    }
   ],
   "source": [
    "arr = np.array([1 ,4, 5 ,3 ,7 ,2])\n",
    "reshaped_arr = arr.reshape(2, 3)\n",
    "print(reshaped_arr)\n",
    "reshaped_arr = arr.reshape(3, 2)\n",
    "print(reshaped_arr)\n",
    "\n",
    "reshaped_arr = reshaped_arr.flatten()\n",
    "print(reshaped_arr)\n"
   ]
  },
  {
   "cell_type": "code",
   "execution_count": 42,
   "metadata": {},
   "outputs": [
    {
     "name": "stdout",
     "output_type": "stream",
     "text": [
      "[3 4 5]\n",
      "[1 2 3 4]\n",
      "[7 8 9]\n"
     ]
    }
   ],
   "source": [
    "arr = np.array([1, 2, 3, 4, 5, 6, 7, 8, 9])\n",
    "\n",
    "sub_arr = arr[2:5]\n",
    "print(sub_arr)\n",
    "\n",
    "sub_arr = arr[:-5]\n",
    "print(sub_arr)\n",
    "\n",
    "sub_arr = arr[-3:]\n",
    "print(sub_arr)\n"
   ]
  },
  {
   "cell_type": "code",
   "execution_count": 43,
   "metadata": {},
   "outputs": [
    {
     "name": "stdout",
     "output_type": "stream",
     "text": [
      "[[1 3 7]\n",
      " [2 8 6]]\n",
      "[[1 2]\n",
      " [3 8]\n",
      " [7 6]]\n"
     ]
    }
   ],
   "source": [
    "arr = np.array([[1 ,3, 7],[2, 8, 6]])\n",
    "print(arr)\n",
    "\n",
    "transposed_arr = arr.T\n",
    "print(transposed_arr)"
   ]
  },
  {
   "cell_type": "code",
   "execution_count": 44,
   "metadata": {},
   "outputs": [
    {
     "name": "stdout",
     "output_type": "stream",
     "text": [
      "[1 4 7 2 5 8]\n"
     ]
    }
   ],
   "source": [
    "arr_1 = np.array([1 ,4 ,7])\n",
    "arr_2 = np.array([2 ,5 ,8])\n",
    "\n",
    "arr = np.concatenate((arr_1, arr_2))\n",
    "print(arr)"
   ]
  },
  {
   "cell_type": "code",
   "execution_count": 47,
   "metadata": {},
   "outputs": [
    {
     "name": "stdout",
     "output_type": "stream",
     "text": [
      "Sum of all elements:  27\n",
      "Average of all elements:  4.5\n",
      "Max value:  8\n",
      "Min value:  1\n",
      "Standard deviation:  2.6299556396765835\n",
      "Variance of array:  6.916666666666667\n",
      "Dot product of two arrays:  68\n"
     ]
    }
   ],
   "source": [
    "arr = np.array([1 ,3, 7, 2, 8, 6])\n",
    "\n",
    "total = np.sum(arr)\n",
    "print(\"Sum of all elements: \", total)\n",
    "\n",
    "average = np.average(arr)\n",
    "print(\"Average of all elements: \", average)\n",
    "\n",
    "max_value = np.max(arr)\n",
    "min_value = np.min(arr)\n",
    "print(\"Max value: \", max_value)\n",
    "print(\"Min value: \", min_value)\n",
    "\n",
    "standard_deviation = np.std(arr)\n",
    "print(\"Standard deviation: \", standard_deviation)\n",
    "\n",
    "variance = np.var(arr)\n",
    "print(\"Variance of array: \", variance)\n",
    "\n",
    "arr_1 = np.array([1 ,3, 7])\n",
    "arr_2 = np.array([2 ,8, 6])\n",
    "\n",
    "dot_product = np.dot(arr_1, arr_2)\n",
    "print(\"Dot product of two arrays: \", dot_product)\n",
    "\n"
   ]
  }
 ],
 "metadata": {
  "kernelspec": {
   "display_name": ".venv",
   "language": "python",
   "name": "python3"
  },
  "language_info": {
   "codemirror_mode": {
    "name": "ipython",
    "version": 3
   },
   "file_extension": ".py",
   "mimetype": "text/x-python",
   "name": "python",
   "nbconvert_exporter": "python",
   "pygments_lexer": "ipython3",
   "version": "3.9.6"
  }
 },
 "nbformat": 4,
 "nbformat_minor": 2
}
