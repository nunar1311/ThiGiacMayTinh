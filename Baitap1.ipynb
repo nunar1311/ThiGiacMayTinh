{
 "cells": [
  {
   "cell_type": "code",
   "execution_count": 3,
   "id": "e5271a9f-2c85-4269-9ecc-a045373f85d7",
   "metadata": {},
   "outputs": [],
   "source": [
    "from PIL import Image\n",
    "\n",
    "image_path =\"chocon.jpg\"\n",
    "\n",
    "image = Image.open(image_path)\n",
    "\n",
    "image.show()"
   ]
  },
  {
   "cell_type": "code",
   "execution_count": null,
   "id": "ca6f3d54-7ab2-469e-846c-7a9db821d13d",
   "metadata": {},
   "outputs": [],
   "source": []
  }
 ],
 "metadata": {
  "kernelspec": {
   "display_name": "Python 3 (ipykernel)",
   "language": "python",
   "name": "python3"
  },
  "language_info": {
   "codemirror_mode": {
    "name": "ipython",
    "version": 3
   },
   "file_extension": ".py",
   "mimetype": "text/x-python",
   "name": "python",
   "nbconvert_exporter": "python",
   "pygments_lexer": "ipython3",
   "version": "3.9.6"
  }
 },
 "nbformat": 4,
 "nbformat_minor": 5
}
