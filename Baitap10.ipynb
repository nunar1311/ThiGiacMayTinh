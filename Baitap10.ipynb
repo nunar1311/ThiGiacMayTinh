{
 "cells": [
  {
   "cell_type": "code",
   "execution_count": 2,
   "metadata": {},
   "outputs": [
    {
     "name": "stderr",
     "output_type": "stream",
     "text": [
      "/var/folders/yx/f_bkvmlj4r1gptqmtn32jgth0000gn/T/ipykernel_85670/420089633.py:10: UserWarning: FigureCanvasAgg is non-interactive, and thus cannot be shown\n",
      "  points = plt.ginput(4)\n"
     ]
    },
    {
     "ename": "",
     "evalue": "",
     "output_type": "error",
     "traceback": [
      "\u001b[1;31mThe Kernel crashed while executing code in the current cell or a previous cell. \n",
      "\u001b[1;31mPlease review the code in the cell(s) to identify a possible cause of the failure. \n",
      "\u001b[1;31mClick <a href='https://aka.ms/vscodeJupyterKernelCrash'>here</a> for more info. \n",
      "\u001b[1;31mView Jupyter <a href='command:jupyter.viewOutput'>log</a> for further details."
     ]
    }
   ],
   "source": [
    "from PIL import Image\n",
    "import matplotlib.pyplot as plt\n",
    "\n",
    "path = \"../ThiGiacMayTinh/images/06.jpg\"\n",
    "img = Image.open(path)\n",
    "plt.switch_backend('agg')\n",
    "plt.imshow(img)\n",
    "plt.title(\"Chạm vào ảnh để lấy điểm\")\n",
    "\n",
    "points = plt.ginput(4)\n",
    "print(points)\n",
    "\n",
    "plt.show()\n"
   ]
  },
  {
   "cell_type": "code",
   "execution_count": 4,
   "metadata": {},
   "outputs": [],
   "source": [
    "plt.close()\n",
    "\n",
    "plt.imshow(img)\n",
    "for point in points:\n",
    "    x, y = point\n",
    "    plt.plot(x, y, 'r*')\n",
    "\n",
    "plt.show()"
   ]
  }
 ],
 "metadata": {
  "kernelspec": {
   "display_name": ".venv",
   "language": "python",
   "name": "python3"
  },
  "language_info": {
   "codemirror_mode": {
    "name": "ipython",
    "version": 3
   },
   "file_extension": ".py",
   "mimetype": "text/x-python",
   "name": "python",
   "nbconvert_exporter": "python",
   "pygments_lexer": "ipython3",
   "version": "3.9.6"
  }
 },
 "nbformat": 4,
 "nbformat_minor": 2
}
