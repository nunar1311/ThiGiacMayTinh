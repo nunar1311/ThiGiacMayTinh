{
 "cells": [
  {
   "cell_type": "code",
   "execution_count": 3,
   "metadata": {},
   "outputs": [
    {
     "name": "stdout",
     "output_type": "stream",
     "text": [
      "[[[ 39 117 116]\n",
      "  [ 37 112 114]\n",
      "  [ 39 105 110]\n",
      "  ...\n",
      "  [ 59  93 123]\n",
      "  [ 51  87 117]\n",
      "  [ 58  94 124]]\n",
      "\n",
      " [[ 37 115 114]\n",
      "  [ 35 111 110]\n",
      "  [ 36 104 109]\n",
      "  ...\n",
      "  [ 63  97 127]\n",
      "  [ 54  90 120]\n",
      "  [ 60  96 126]]\n",
      "\n",
      " [[ 32 113 110]\n",
      "  [ 30 108 107]\n",
      "  [ 31 104 108]\n",
      "  ...\n",
      "  [ 68 102 132]\n",
      "  [ 59  95 125]\n",
      "  [ 62  98 128]]\n",
      "\n",
      " ...\n",
      "\n",
      " [[ 43  53  63]\n",
      "  [ 44  54  64]\n",
      "  [ 46  56  66]\n",
      "  ...\n",
      "  [ 80 104 122]\n",
      "  [ 80 104 122]\n",
      "  [ 87 111 129]]\n",
      "\n",
      " [[ 32  41  50]\n",
      "  [ 33  42  51]\n",
      "  [ 34  43  52]\n",
      "  ...\n",
      "  [ 78  95 108]\n",
      "  [ 75  93 104]\n",
      "  [ 78  96 107]]\n",
      "\n",
      " [[238 247 255]\n",
      "  [239 248 255]\n",
      "  [240 249 255]\n",
      "  ...\n",
      "  [232 247 255]\n",
      "  [229 245 252]\n",
      "  [233 249 255]]]\n"
     ]
    }
   ],
   "source": [
    "import cv2\n",
    "\n",
    "my_path = \"../ThiGiacMayTinh/images/04.jpeg\"\n",
    "\n",
    "img = cv2.imread(my_path)\n",
    "print(img)"
   ]
  },
  {
   "cell_type": "code",
   "execution_count": 4,
   "metadata": {},
   "outputs": [
    {
     "name": "stdout",
     "output_type": "stream",
     "text": [
      "Image shape:  (192, 204, 3)\n",
      "192\n",
      "204\n",
      "3\n"
     ]
    }
   ],
   "source": [
    "print(\"Image shape: \", img.shape)\n",
    "x, y, z = img.shape\n",
    "print(x)\n",
    "print(y)\n",
    "print(z)"
   ]
  },
  {
   "cell_type": "code",
   "execution_count": 5,
   "metadata": {},
   "outputs": [
    {
     "name": "stderr",
     "output_type": "stream",
     "text": [
      "2024-10-04 16:13:53.520 Python[13737:3767756] +[IMKClient subclass]: chose IMKClient_Legacy\n",
      "2024-10-04 16:13:53.520 Python[13737:3767756] +[IMKInputSession subclass]: chose IMKInputSession_Legacy\n"
     ]
    }
   ],
   "source": [
    "cv2.imshow(\"Image\", img)\n",
    "cv2.waitKey(10000)\n",
    "\n",
    "cv2.destroyWindow(\"Image\")"
   ]
  },
  {
   "cell_type": "code",
   "execution_count": 6,
   "metadata": {},
   "outputs": [],
   "source": [
    "r, g, b = cv2.split(img)\n",
    "cv2.imshow(\"Red\", r)\n",
    "cv2.imshow(\"Green\", g)\n",
    "cv2.imshow(\"Blue\", b)\n",
    "\n",
    "cv2.waitKey(0)\n",
    "cv2.destroyAllWindows()"
   ]
  },
  {
   "cell_type": "code",
   "execution_count": 7,
   "metadata": {},
   "outputs": [],
   "source": [
    "gray_img = cv2.cvtColor(img, cv2.COLOR_BGR2GRAY)\n",
    "rgb_img = cv2.cvtColor(img, cv2.COLOR_BGR2RGB)\n",
    "cv2.imshow(\"Gray Image\", gray_img)\n",
    "cv2.imshow(\"RGB Image\", rgb_img)\n",
    "\n",
    "cv2.waitKey(0)\n",
    "cv2.destroyAllWindows()"
   ]
  },
  {
   "cell_type": "code",
   "execution_count": 9,
   "metadata": {},
   "outputs": [],
   "source": [
    "\n",
    "def display(title, img):\n",
    "    cv2.imshow(title, img)\n",
    "    cv2.waitKey(0)\n",
    "    cv2.destroyWindow(title)"
   ]
  },
  {
   "cell_type": "code",
   "execution_count": 11,
   "metadata": {},
   "outputs": [
    {
     "ename": "",
     "evalue": "",
     "output_type": "error",
     "traceback": [
      "\u001b[1;31mThe Kernel crashed while executing code in the current cell or a previous cell. \n",
      "\u001b[1;31mPlease review the code in the cell(s) to identify a possible cause of the failure. \n",
      "\u001b[1;31mClick <a href='https://aka.ms/vscodeJupyterKernelCrash'>here</a> for more info. \n",
      "\u001b[1;31mView Jupyter <a href='command:jupyter.viewOutput'>log</a> for further details."
     ]
    }
   ],
   "source": [
    "\n",
    "height, width, z = img.shape\n",
    "quarter_height = height / 2\n",
    "quarter_width = width / 2\n",
    "\n",
    "green_img = (0, 255, 0)\n",
    "\n",
    "img2 = img.copy()\n",
    "\n",
    "for y in range(int(quarter_height)):\n",
    "    for x in range(int(quarter_width)):\n",
    "        img2[y, x] = green_img\n",
    "\n",
    "display(\"Image\", img)\n",
    "display(\"Image 2\", img2)\n"
   ]
  }
 ],
 "metadata": {
  "kernelspec": {
   "display_name": ".venv",
   "language": "python",
   "name": "python3"
  },
  "language_info": {
   "codemirror_mode": {
    "name": "ipython",
    "version": 3
   },
   "file_extension": ".py",
   "mimetype": "text/x-python",
   "name": "python",
   "nbconvert_exporter": "python",
   "pygments_lexer": "ipython3",
   "version": "3.9.6"
  }
 },
 "nbformat": 4,
 "nbformat_minor": 2
}
