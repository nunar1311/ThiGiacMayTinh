{
 "cells": [
  {
   "cell_type": "code",
   "execution_count": 4,
   "metadata": {},
   "outputs": [
    {
     "name": "stdout",
     "output_type": "stream",
     "text": [
      "(177, 167)\n",
      "(179, 168)\n",
      "(194, 183)\n",
      "(204, 192)\n",
      "(204, 192)\n"
     ]
    }
   ],
   "source": [
    "from PIL import Image\n",
    "from imageTools import *\n",
    "\n",
    "dir = \"../ThiGiacMayTinh/images\"\n",
    "\n",
    "imgs = get_image_list(dir)\n",
    "\n",
    "for img in imgs:\n",
    "    print(img.size)\n",
    "    img.show()\n"
   ]
  }
 ],
 "metadata": {
  "kernelspec": {
   "display_name": ".venv",
   "language": "python",
   "name": "python3"
  },
  "language_info": {
   "codemirror_mode": {
    "name": "ipython",
    "version": 3
   },
   "file_extension": ".py",
   "mimetype": "text/x-python",
   "name": "python",
   "nbconvert_exporter": "python",
   "pygments_lexer": "ipython3",
   "version": "3.9.6"
  }
 },
 "nbformat": 4,
 "nbformat_minor": 5
}
